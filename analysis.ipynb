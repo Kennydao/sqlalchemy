{
 "cells": [
  {
   "cell_type": "markdown",
   "metadata": {},
   "source": [
    "# SQLAlchemy Homework - Surfs Up!"
   ]
  },
  {
   "cell_type": "code",
   "execution_count": 1,
   "metadata": {},
   "outputs": [],
   "source": [
    "%matplotlib inline\n",
    "from matplotlib import style\n",
    "style.use('fivethirtyeight')\n",
    "import matplotlib.pyplot as plt\n",
    "import seaborn as sns"
   ]
  },
  {
   "cell_type": "code",
   "execution_count": 2,
   "metadata": {},
   "outputs": [],
   "source": [
    "import numpy as np\n",
    "import scipy.stats as stats\n",
    "import pandas as pd\n",
    "import datetime as dt"
   ]
  },
  {
   "cell_type": "markdown",
   "metadata": {},
   "source": [
    "## Reflect Tables into SQLAlchemy ORM"
   ]
  },
  {
   "cell_type": "code",
   "execution_count": 3,
   "metadata": {},
   "outputs": [],
   "source": [
    "# Python SQL toolkit and Object Relational Mapper\n",
    "import sqlalchemy\n",
    "from sqlalchemy.ext.automap import automap_base\n",
    "from sqlalchemy.orm import Session\n",
    "from sqlalchemy import create_engine, func\n",
    "from sqlalchemy import inspect"
   ]
  },
  {
   "cell_type": "code",
   "execution_count": 4,
   "metadata": {},
   "outputs": [],
   "source": [
    "engine = create_engine(\"sqlite:///Resources/hawaii.sqlite\")\n",
    "\n",
    "# reflect an existing database into a new model\n",
    "Base = automap_base()\n",
    "\n",
    "# reflect the tables\n",
    "Base.prepare(engine, reflect=True)"
   ]
  },
  {
   "cell_type": "code",
   "execution_count": 5,
   "metadata": {},
   "outputs": [
    {
     "data": {
      "text/plain": [
       "['measurement', 'station']"
      ]
     },
     "execution_count": 5,
     "metadata": {},
     "output_type": "execute_result"
    }
   ],
   "source": [
    "# We can view all of the classes that automap found\n",
    "Base.classes.keys()\n",
    "\n",
    "# Base.metadata.tables"
   ]
  },
  {
   "cell_type": "code",
   "execution_count": 6,
   "metadata": {},
   "outputs": [],
   "source": [
    "# Save references to each table\n",
    "Measurement = Base.classes.measurement\n",
    "Station = Base.classes.station"
   ]
  },
  {
   "cell_type": "code",
   "execution_count": 7,
   "metadata": {},
   "outputs": [
    {
     "name": "stdout",
     "output_type": "stream",
     "text": [
      "id INTEGER\n",
      "station TEXT\n",
      "date TEXT\n",
      "prcp FLOAT\n",
      "tobs FLOAT\n"
     ]
    }
   ],
   "source": [
    "# print columns of the measurement table\n",
    "\n",
    "inspector = inspect(engine)\n",
    "\n",
    "cols = inspector.get_columns('Measurement')\n",
    "for col in cols:\n",
    "    print(col['name'], col['type'])"
   ]
  },
  {
   "cell_type": "code",
   "execution_count": 8,
   "metadata": {},
   "outputs": [
    {
     "name": "stdout",
     "output_type": "stream",
     "text": [
      "id INTEGER\n",
      "station TEXT\n",
      "name TEXT\n",
      "latitude FLOAT\n",
      "longitude FLOAT\n",
      "elevation FLOAT\n"
     ]
    }
   ],
   "source": [
    "# print columns of the station table\n",
    "cols = inspector.get_columns('Station')\n",
    "for col in cols:\n",
    "    print(col['name'], col['type'])"
   ]
  },
  {
   "cell_type": "code",
   "execution_count": 9,
   "metadata": {},
   "outputs": [],
   "source": [
    "# Create our session (link) from Python to the DB\n",
    "session = Session(engine)"
   ]
  },
  {
   "cell_type": "markdown",
   "metadata": {},
   "source": [
    "# Exploratory Climate Analysis"
   ]
  },
  {
   "cell_type": "markdown",
   "metadata": {},
   "source": [
    "### Precipitation Analysis"
   ]
  },
  {
   "cell_type": "code",
   "execution_count": 10,
   "metadata": {},
   "outputs": [],
   "source": [
    "# Design a query to retrieve the last 12 months of precipitation data and plot the results\n",
    "\n",
    "# acquiring the last date of the data point\n",
    "\n",
    "last_date_sel = [\"Select date From Measurement Group By date Order By date Desc\"]\n",
    "last_date = engine.execute(*last_date_sel).fetchone()"
   ]
  },
  {
   "cell_type": "code",
   "execution_count": 11,
   "metadata": {},
   "outputs": [],
   "source": [
    "# design a query to retrieve the last 12 months of precipitation data and plot the results\n",
    "\n",
    "# determining date of last 12 month date from data point\n",
    "\n",
    "last_12m_date = dt.datetime.strptime(last_date[0],\"%Y-%m-%d\") - dt.timedelta(days = 365)\n",
    "\n",
    "# query to retrieve precipitation data in the last 12 months (grouped by month)\n",
    "\n",
    "precip_by_month = session.query(func.strftime(\"%m\",Measurement.date), func.sum(Measurement.prcp)).\\\n",
    "                    group_by(func.strftime(\"%m\",Measurement.date)).\\\n",
    "                    filter(Measurement.date >= last_12m_date)"
   ]
  },
  {
   "cell_type": "code",
   "execution_count": 12,
   "metadata": {},
   "outputs": [
    {
     "data": {
      "text/html": [
       "<div>\n",
       "<style scoped>\n",
       "    .dataframe tbody tr th:only-of-type {\n",
       "        vertical-align: middle;\n",
       "    }\n",
       "\n",
       "    .dataframe tbody tr th {\n",
       "        vertical-align: top;\n",
       "    }\n",
       "\n",
       "    .dataframe thead th {\n",
       "        text-align: right;\n",
       "    }\n",
       "</style>\n",
       "<table border=\"1\" class=\"dataframe\">\n",
       "  <thead>\n",
       "    <tr style=\"text-align: right;\">\n",
       "      <th></th>\n",
       "      <th>month</th>\n",
       "      <th>prcp</th>\n",
       "    </tr>\n",
       "  </thead>\n",
       "  <tbody>\n",
       "    <tr>\n",
       "      <th>0</th>\n",
       "      <td>01</td>\n",
       "      <td>11.95</td>\n",
       "    </tr>\n",
       "    <tr>\n",
       "      <th>1</th>\n",
       "      <td>02</td>\n",
       "      <td>39.06</td>\n",
       "    </tr>\n",
       "    <tr>\n",
       "      <th>2</th>\n",
       "      <td>03</td>\n",
       "      <td>29.62</td>\n",
       "    </tr>\n",
       "    <tr>\n",
       "      <th>3</th>\n",
       "      <td>04</td>\n",
       "      <td>54.91</td>\n",
       "    </tr>\n",
       "    <tr>\n",
       "      <th>4</th>\n",
       "      <td>05</td>\n",
       "      <td>25.27</td>\n",
       "    </tr>\n",
       "  </tbody>\n",
       "</table>\n",
       "</div>"
      ],
      "text/plain": [
       "  month   prcp\n",
       "0    01  11.95\n",
       "1    02  39.06\n",
       "2    03  29.62\n",
       "3    04  54.91\n",
       "4    05  25.27"
      ]
     },
     "execution_count": 12,
     "metadata": {},
     "output_type": "execute_result"
    }
   ],
   "source": [
    "# converting to dataframe\n",
    "\n",
    "precip_by_month_df = pd.DataFrame(precip_by_month,columns={'month':precip_by_month[0],'prcp':precip_by_month[1]})\n",
    "precip_by_month_df.head()"
   ]
  },
  {
   "cell_type": "code",
   "execution_count": 13,
   "metadata": {},
   "outputs": [
    {
     "data": {
      "image/png": "[encoded data removed]",
      "text/plain": [
       "<Figure size 1296x576 with 1 Axes>"
      ]
     },
     "metadata": {},
     "output_type": "display_data"
    }
   ],
   "source": [
    "# Use Pandas Plotting with Matplotlib to plot the data\n",
    "# plotting precipitation data in the last 12 months\n",
    "\n",
    "# setting figure size\n",
    "\n",
    "plt.figure(figsize=(18,8));\n",
    "\n",
    "# defining horizontal bar chart\n",
    "\n",
    "plt.barh(precip_by_month_df.month, precip_by_month_df.prcp)\n",
    "\n",
    "# setting title & labels\n",
    "plt.xlabel('Precipitation [inches]')\n",
    "plt.ylabel('Month')\n",
    "plt.title('Precipitation in 12 months [08-2016 till 08-2017]')\n",
    "plt.grid(True);\n",
    "\n",
    "#plt.savefig('Images/precipitation_by_month.png')\n",
    "\n",
    "# displaying the chart\n",
    "plt.show()"
   ]
  },
  {
   "cell_type": "code",
   "execution_count": 14,
   "metadata": {},
   "outputs": [
    {
     "name": "stdout",
     "output_type": "stream",
     "text": [
      "--------------------------------------------------------\n",
      " The date 1 year ago from the data point is 2016-08-23.\n",
      "---------------------------------------------------------\n"
     ]
    }
   ],
   "source": [
    "# Calculate the date 1 year ago from the last data point in the database\n",
    "\n",
    "# retrieving last date data point from given dataset\n",
    "\n",
    "last_date_sel = [\"Select date From Measurement Group By date Order By date Desc\"]\n",
    "last_date = engine.execute(*last_date_sel).fetchone()\n",
    "\n",
    "one_year_ago = dt.datetime.strptime(last_date[0], \"%Y-%m-%d\") - dt.timedelta(days = 365)\n",
    "\n",
    "print('--------------------------------------------------------')\n",
    "print(f' The date 1 year ago from the data point is {one_year_ago.strftime(\"%Y-%m-%d\")}.')\n",
    "print('---------------------------------------------------------')"
   ]
  },
  {
   "cell_type": "code",
   "execution_count": 15,
   "metadata": {},
   "outputs": [
    {
     "name": "stdout",
     "output_type": "stream",
     "text": [
      "('2016-08-24', 0.08)\n",
      "('2016-08-25', 0.08)\n",
      "('2016-08-26', 0.0)\n",
      "('2016-08-27', 0.0)\n",
      "('2016-08-28', 0.01)\n"
     ]
    }
   ],
   "source": [
    "# Perform a query to retrieve the data and precipitation scores\n",
    "\n",
    "# retrieving precipitation data in the last 12 month (by date), ordering by date\n",
    "\n",
    "data = session.query(Measurement.date, Measurement.prcp).\\\n",
    "                        filter(Measurement.date >= last_12m_date).\\\n",
    "                        group_by(Measurement.date)\n",
    "\n",
    "# verifying data returning from query\n",
    "for row in data.limit(5):\n",
    "    print(row)"
   ]
  },
  {
   "cell_type": "code",
   "execution_count": 16,
   "metadata": {},
   "outputs": [
    {
     "data": {
      "text/html": [
       "<div>\n",
       "<style scoped>\n",
       "    .dataframe tbody tr th:only-of-type {\n",
       "        vertical-align: middle;\n",
       "    }\n",
       "\n",
       "    .dataframe tbody tr th {\n",
       "        vertical-align: top;\n",
       "    }\n",
       "\n",
       "    .dataframe thead th {\n",
       "        text-align: right;\n",
       "    }\n",
       "</style>\n",
       "<table border=\"1\" class=\"dataframe\">\n",
       "  <thead>\n",
       "    <tr style=\"text-align: right;\">\n",
       "      <th></th>\n",
       "      <th>Precipitation</th>\n",
       "    </tr>\n",
       "  </thead>\n",
       "  <tbody>\n",
       "    <tr>\n",
       "      <th>count</th>\n",
       "      <td>363.000000</td>\n",
       "    </tr>\n",
       "    <tr>\n",
       "      <th>mean</th>\n",
       "      <td>0.048843</td>\n",
       "    </tr>\n",
       "    <tr>\n",
       "      <th>std</th>\n",
       "      <td>0.205197</td>\n",
       "    </tr>\n",
       "    <tr>\n",
       "      <th>min</th>\n",
       "      <td>0.000000</td>\n",
       "    </tr>\n",
       "    <tr>\n",
       "      <th>25%</th>\n",
       "      <td>0.000000</td>\n",
       "    </tr>\n",
       "    <tr>\n",
       "      <th>50%</th>\n",
       "      <td>0.000000</td>\n",
       "    </tr>\n",
       "    <tr>\n",
       "      <th>75%</th>\n",
       "      <td>0.020000</td>\n",
       "    </tr>\n",
       "    <tr>\n",
       "      <th>max</th>\n",
       "      <td>2.620000</td>\n",
       "    </tr>\n",
       "  </tbody>\n",
       "</table>\n",
       "</div>"
      ],
      "text/plain": [
       "       Precipitation\n",
       "count     363.000000\n",
       "mean        0.048843\n",
       "std         0.205197\n",
       "min         0.000000\n",
       "25%         0.000000\n",
       "50%         0.000000\n",
       "75%         0.020000\n",
       "max         2.620000"
      ]
     },
     "execution_count": 16,
     "metadata": {},
     "output_type": "execute_result"
    }
   ],
   "source": [
    "# save the query results as a Pandas DataFrame and set the index to the date column\n",
    "# sort the dataframe by date\n",
    "\n",
    "measure_df = pd.DataFrame(data, columns=['Date', 'Precipitation']).sort_values('Date').set_index('Date')\n",
    "\n",
    "# removing NaN values in the dataset\n",
    "measure_df = measure_df.dropna()\n",
    "\n",
    "# reseting index\n",
    "measure_df.reset_index(inplace=True)\n",
    "\n",
    "# Use Pandas to calcualte the summary statistics for the precipitation data\n",
    "measure_df.describe()"
   ]
  },
  {
   "cell_type": "code",
   "execution_count": 17,
   "metadata": {},
   "outputs": [
    {
     "data": {
      "image/png": "[encoded data removed]",
      "text/plain": [
       "<Figure size 864x576 with 1 Axes>"
      ]
     },
     "metadata": {},
     "output_type": "display_data"
    }
   ],
   "source": [
    "# plotting chart for precipitation\n",
    "\n",
    "measure_df.plot('Date','Precipitation', color='b',figsize=(12,8), legend='Precipitation');\n",
    "\n",
    "# setting labels\n",
    "plt.xticks(rotation=90,horizontalalignment='right', fontweight='light', fontsize='small');\n",
    "plt.ylabel('Inches')\n",
    "plt.xlabel('Date')\n",
    "\n",
    "#plt.savefig('Images/precipitation.png')\n",
    "\n",
    "plt.show()"
   ]
  },
  {
   "cell_type": "code",
   "execution_count": 18,
   "metadata": {},
   "outputs": [
    {
     "name": "stdout",
     "output_type": "stream",
     "text": [
      "------------------------------------------------------------------\n",
      " The maximum and minimum precipitation recorded is: 2.62 inches, and 0.0 inches\n",
      "------------------------------------------------------------------\n"
     ]
    }
   ],
   "source": [
    "# max, min precipitation\n",
    "max_prcp = measure_df.Precipitation.max()\n",
    "min_prcp = measure_df.Precipitation.min()\n",
    "\n",
    "print('------------------------------------------------------------------')\n",
    "print(f' The maximum and minimum precipitation recorded is: {max_prcp} inches, and {min_prcp} inches')\n",
    "print('------------------------------------------------------------------')"
   ]
  },
  {
   "cell_type": "code",
   "execution_count": 19,
   "metadata": {},
   "outputs": [
    {
     "name": "stdout",
     "output_type": "stream",
     "text": [
      "----------------------------------------------------------------------------------\n",
      "The average precipitation [Inches] by month recorded in the dataset is as follows:\n",
      "----------------------------------------------------------------------------------\n",
      "   01 : 0.01\n",
      "   02 : 0.13\n",
      "   03 : 0.09\n",
      "   04 : 0.07\n",
      "   05 : 0.09\n",
      "   06 : 0.01\n",
      "   07 : 0.01\n",
      "   08 : 0.01\n",
      "   09 : 0.08\n",
      "   10 : 0.02\n",
      "   11 : 0.02\n",
      "   12 : 0.06\n"
     ]
    }
   ],
   "source": [
    "# average precipitation by month\n",
    "\n",
    "by_month_measure_df = measure_df.copy()\n",
    "by_month_measure_df['Date'] = by_month_measure_df['Date'].apply(lambda x: x[5:7])\n",
    "\n",
    "avg_by_month_df = by_month_measure_df.groupby('Date').mean()\n",
    "avg_by_month_df.reset_index(inplace=True)\n",
    "avg_by_month_df.head()\n",
    "\n",
    "print('----------------------------------------------------------------------------------')\n",
    "print(f'The average precipitation [Inches] by month recorded in the dataset is as follows:')\n",
    "print('----------------------------------------------------------------------------------')\n",
    "for row in avg_by_month_df.iterrows():\n",
    "    print(f'   {row[1][0]} : {round(row[0:2][1][1],2)}')\n"
   ]
  },
  {
   "cell_type": "markdown",
   "metadata": {},
   "source": [
    "### Station Analysis"
   ]
  },
  {
   "cell_type": "code",
   "execution_count": 20,
   "metadata": {},
   "outputs": [
    {
     "name": "stdout",
     "output_type": "stream",
     "text": [
      "-------------------------------------------------\n",
      " There are 9 stations available in the dataset.\n",
      "-------------------------------------------------\n"
     ]
    },
    {
     "data": {
      "text/plain": [
       "[('USC00519397'),\n",
       " ('USC00513117'),\n",
       " ('USC00514830'),\n",
       " ('USC00517948'),\n",
       " ('USC00518838'),\n",
       " ('USC00519523'),\n",
       " ('USC00519281'),\n",
       " ('USC00511918'),\n",
       " ('USC00516128')]"
      ]
     },
     "execution_count": 20,
     "metadata": {},
     "output_type": "execute_result"
    }
   ],
   "source": [
    "# Design a query to show how many stations are available in this dataset?\n",
    "\n",
    "station_counts = session.query(Station.station).count()\n",
    "stations_name = session.query(Measurement.station).distinct().all()\n",
    "\n",
    "print('-------------------------------------------------')\n",
    "print(f' There are {station_counts} stations available in the dataset.')\n",
    "print('-------------------------------------------------')\n",
    "\n",
    "stations_name"
   ]
  },
  {
   "cell_type": "code",
   "execution_count": 21,
   "metadata": {},
   "outputs": [
    {
     "name": "stdout",
     "output_type": "stream",
     "text": [
      "---------------------------------------------------------------------------------\n",
      "The most active station is USC00519281 with total number of measurement is at 2772.\n",
      "---------------------------------------------------------------------------------\n"
     ]
    }
   ],
   "source": [
    "# What are the most active stations? (i.e. what stations have the most rows)?\n",
    "\n",
    "query = [\"Select station, count(station) From Measurement Group By station Order By count(station) Desc\"]\n",
    "most_active = engine.execute(*query).fetchone()\n",
    "print('---------------------------------------------------------------------------------')\n",
    "print(f'The most active station is {most_active[0]} with total number of measurement is at {most_active[1]}.')\n",
    "print('---------------------------------------------------------------------------------')"
   ]
  },
  {
   "cell_type": "code",
   "execution_count": 22,
   "metadata": {},
   "outputs": [
    {
     "name": "stdout",
     "output_type": "stream",
     "text": [
      "---------------------------------------------------------\n",
      "List the stations and the counts in descending order:\n",
      "---------------------------------------------------------\n",
      "  1 ) USC00519281 :  2772\n",
      "  2 ) USC00519397 :  2724\n",
      "  3 ) USC00513117 :  2709\n",
      "  4 ) USC00519523 :  2669\n",
      "  5 ) USC00516128 :  2612\n",
      "  6 ) USC00514830 :  2202\n",
      "  7 ) USC00511918 :  1979\n",
      "  8 ) USC00517948 :  1372\n",
      "  9 ) USC00518838 :  511\n"
     ]
    }
   ],
   "source": [
    "# List the stations and the counts in descending order.\n",
    "\n",
    "query = [\"Select station, count(station) From Measurement Group By station Order By count(station) Desc\"]\n",
    "station_list = engine.execute(*query).fetchall()\n",
    "print('---------------------------------------------------------')\n",
    "print('List the stations and the counts in descending order:')\n",
    "print('---------------------------------------------------------')\n",
    "i = 1\n",
    "for station in station_list:\n",
    "    print(' ',i,')', station[0],': ', station[1])\n",
    "    i +=1"
   ]
  },
  {
   "cell_type": "code",
   "execution_count": 23,
   "metadata": {},
   "outputs": [
    {
     "name": "stdout",
     "output_type": "stream",
     "text": [
      "--------------------------------------------------------------------------------\n",
      " Station USC00519281 recorded lowest: 54.0F, average: 70.0F, and highest: 85.0F\n",
      "--------------------------------------------------------------------------------\n"
     ]
    }
   ],
   "source": [
    "# Using the station id from the previous query, calculate the lowest temperature recorded, \n",
    "# highest temperature recorded, and average temperature of the most active station?\n",
    "\n",
    "sel_station = 'USC00519281'\n",
    "lowest_temp = session.query(func.min(Measurement.tobs)).\\\n",
    "                                filter(Measurement.station == sel_station).\\\n",
    "                                group_by(Measurement.station)\n",
    "\n",
    "\n",
    "# highest temperature\n",
    "\n",
    "highest_temp = session.query(func.max(Measurement.tobs)).\\\n",
    "                                filter(Measurement.station == sel_station).\\\n",
    "                                group_by(Measurement.station)\n",
    "                        \n",
    "# avergage temperature\n",
    "\n",
    "avg_temp = session.query(func.avg(Measurement.tobs)).\\\n",
    "                            filter(Measurement.station == sel_station).\\\n",
    "                            group_by(Measurement.station, Measurement.date)\n",
    "\n",
    "print('--------------------------------------------------------------------------------')\n",
    "print(f' Station {sel_station} recorded lowest: {round(lowest_temp[0][0],2)}F,\\\n",
    " average: {round(avg_temp[0][0],2)}F, and highest: {round(highest_temp[0][0],2)}F')\n",
    "print('--------------------------------------------------------------------------------')"
   ]
  },
  {
   "cell_type": "code",
   "execution_count": 24,
   "metadata": {},
   "outputs": [],
   "source": [
    "# Choose the station with the highest number of temperature observations.\n",
    "# Query the last 12 months of temperature observation data for this station and plot the results as a histogram\n",
    "\n",
    "sel_station = 'USC00519281'\n",
    "\n",
    "Sel = [Measurement.date, Measurement.tobs]\n",
    "\n",
    "sel_station_data = session.query(*Sel).filter(Measurement.date >= one_year_ago).\\\n",
    "                                        filter(Measurement.station == sel_station)"
   ]
  },
  {
   "cell_type": "code",
   "execution_count": 25,
   "metadata": {},
   "outputs": [
    {
     "data": {
      "text/html": [
       "<div>\n",
       "<style scoped>\n",
       "    .dataframe tbody tr th:only-of-type {\n",
       "        vertical-align: middle;\n",
       "    }\n",
       "\n",
       "    .dataframe tbody tr th {\n",
       "        vertical-align: top;\n",
       "    }\n",
       "\n",
       "    .dataframe thead th {\n",
       "        text-align: right;\n",
       "    }\n",
       "</style>\n",
       "<table border=\"1\" class=\"dataframe\">\n",
       "  <thead>\n",
       "    <tr style=\"text-align: right;\">\n",
       "      <th></th>\n",
       "      <th>Temperature</th>\n",
       "    </tr>\n",
       "    <tr>\n",
       "      <th>Date</th>\n",
       "      <th></th>\n",
       "    </tr>\n",
       "  </thead>\n",
       "  <tbody>\n",
       "    <tr>\n",
       "      <th>2016-08-24</th>\n",
       "      <td>77.0</td>\n",
       "    </tr>\n",
       "    <tr>\n",
       "      <th>2016-08-25</th>\n",
       "      <td>80.0</td>\n",
       "    </tr>\n",
       "    <tr>\n",
       "      <th>2016-08-26</th>\n",
       "      <td>80.0</td>\n",
       "    </tr>\n",
       "    <tr>\n",
       "      <th>2016-08-27</th>\n",
       "      <td>75.0</td>\n",
       "    </tr>\n",
       "    <tr>\n",
       "      <th>2016-08-28</th>\n",
       "      <td>73.0</td>\n",
       "    </tr>\n",
       "  </tbody>\n",
       "</table>\n",
       "</div>"
      ],
      "text/plain": [
       "            Temperature\n",
       "Date                   \n",
       "2016-08-24         77.0\n",
       "2016-08-25         80.0\n",
       "2016-08-26         80.0\n",
       "2016-08-27         75.0\n",
       "2016-08-28         73.0"
      ]
     },
     "execution_count": 25,
     "metadata": {},
     "output_type": "execute_result"
    }
   ],
   "source": [
    "# convert to dataframe\n",
    "sel_station_df = pd.DataFrame(sel_station_data, columns=['Date', 'Temperature']).sort_values('Date').set_index('Date')\n",
    "sel_station_df #.reset_index(inplace=True)\n",
    "sel_station_df.head()"
   ]
  },
  {
   "cell_type": "code",
   "execution_count": 26,
   "metadata": {},
   "outputs": [
    {
     "data": {
      "text/plain": [
       "<Figure size 720x576 with 0 Axes>"
      ]
     },
     "metadata": {},
     "output_type": "display_data"
    },
    {
     "data": {
      "image/png": "[encoded data removed]",
      "text/plain": [
       "<Figure size 720x576 with 1 Axes>"
      ]
     },
     "metadata": {},
     "output_type": "display_data"
    }
   ],
   "source": [
    "# plotting the results as a histogram\n",
    "\n",
    "plt.figure(figsize=(10,8));\n",
    "\n",
    "ax = sel_station_df.plot.hist(bins=12, alpha=0.75, figsize=(10,8), color='b');\n",
    "\n",
    "# setting labels and title \n",
    "plt.ylabel('Frequency')\n",
    "plt.xlabel('Temperature [F]')\n",
    "plt.grid(True)\n",
    "plt.title(f'Temperature in last 12 months at the station {sel_station}')\n",
    "\n",
    "\n",
    "#plt.savefig('Images/station-histogram.png')\n",
    "plt.show()"
   ]
  },
  {
   "cell_type": "markdown",
   "metadata": {},
   "source": [
    "## Bonus: Challenge Assignment"
   ]
  },
  {
   "cell_type": "markdown",
   "metadata": {},
   "source": [
    "### Temperature Analysis I"
   ]
  },
  {
   "cell_type": "markdown",
   "metadata": {},
   "source": [
    "* Hawaii is reputed to enjoy mild weather all year. Is there a meaningful difference\n",
    "  between the temperature in, for example, June and December?"
   ]
  },
  {
   "cell_type": "code",
   "execution_count": 27,
   "metadata": {},
   "outputs": [],
   "source": [
    "# retrieving average temperature by month across all years\n",
    "avg_tmp_by_month = session.query(func.strftime(\"%Y-%m\",Measurement.date), func.avg(Measurement.tobs)).\\\n",
    "                    group_by(func.strftime(\"%Y-%m\",Measurement.date))                    "
   ]
  },
  {
   "cell_type": "code",
   "execution_count": 28,
   "metadata": {},
   "outputs": [
    {
     "data": {
      "text/html": [
       "<div>\n",
       "<style scoped>\n",
       "    .dataframe tbody tr th:only-of-type {\n",
       "        vertical-align: middle;\n",
       "    }\n",
       "\n",
       "    .dataframe tbody tr th {\n",
       "        vertical-align: top;\n",
       "    }\n",
       "\n",
       "    .dataframe thead th {\n",
       "        text-align: right;\n",
       "    }\n",
       "</style>\n",
       "<table border=\"1\" class=\"dataframe\">\n",
       "  <thead>\n",
       "    <tr style=\"text-align: right;\">\n",
       "      <th></th>\n",
       "      <th>Month</th>\n",
       "      <th>Temp</th>\n",
       "    </tr>\n",
       "  </thead>\n",
       "  <tbody>\n",
       "    <tr>\n",
       "      <th>0</th>\n",
       "      <td>2010-01</td>\n",
       "      <td>69.248756</td>\n",
       "    </tr>\n",
       "    <tr>\n",
       "      <th>1</th>\n",
       "      <td>2010-02</td>\n",
       "      <td>67.398876</td>\n",
       "    </tr>\n",
       "    <tr>\n",
       "      <th>2</th>\n",
       "      <td>2010-03</td>\n",
       "      <td>69.651982</td>\n",
       "    </tr>\n",
       "    <tr>\n",
       "      <th>3</th>\n",
       "      <td>2010-04</td>\n",
       "      <td>71.030973</td>\n",
       "    </tr>\n",
       "    <tr>\n",
       "      <th>4</th>\n",
       "      <td>2010-05</td>\n",
       "      <td>73.817073</td>\n",
       "    </tr>\n",
       "  </tbody>\n",
       "</table>\n",
       "</div>"
      ],
      "text/plain": [
       "     Month       Temp\n",
       "0  2010-01  69.248756\n",
       "1  2010-02  67.398876\n",
       "2  2010-03  69.651982\n",
       "3  2010-04  71.030973\n",
       "4  2010-05  73.817073"
      ]
     },
     "execution_count": 28,
     "metadata": {},
     "output_type": "execute_result"
    }
   ],
   "source": [
    "# converting to dataframe\n",
    "avg_tmp_df = pd.DataFrame(avg_tmp_by_month, columns=['Month', 'Temp'])\n",
    "avg_tmp_df.head()"
   ]
  },
  {
   "cell_type": "code",
   "execution_count": 29,
   "metadata": {},
   "outputs": [],
   "source": [
    "# re-setting to month format (mm)\n",
    "avg_tmp_df.Month = avg_tmp_df.Month.apply(lambda x: x[5:7])"
   ]
  },
  {
   "cell_type": "code",
   "execution_count": 30,
   "metadata": {},
   "outputs": [],
   "source": [
    "# filtering average temperature for the month of June & December\n",
    "jun_dec_avg_tmp = avg_tmp_df.loc[(avg_tmp_df[\"Month\"] =='06') | (avg_tmp_df[\"Month\"] =='12'),]"
   ]
  },
  {
   "cell_type": "code",
   "execution_count": 31,
   "metadata": {},
   "outputs": [
    {
     "data": {
      "text/html": [
       "<div>\n",
       "<style scoped>\n",
       "    .dataframe tbody tr th:only-of-type {\n",
       "        vertical-align: middle;\n",
       "    }\n",
       "\n",
       "    .dataframe tbody tr th {\n",
       "        vertical-align: top;\n",
       "    }\n",
       "\n",
       "    .dataframe thead th {\n",
       "        text-align: right;\n",
       "    }\n",
       "</style>\n",
       "<table border=\"1\" class=\"dataframe\">\n",
       "  <thead>\n",
       "    <tr style=\"text-align: right;\">\n",
       "      <th></th>\n",
       "      <th>Month</th>\n",
       "      <th>Temp</th>\n",
       "    </tr>\n",
       "  </thead>\n",
       "  <tbody>\n",
       "    <tr>\n",
       "      <th>5</th>\n",
       "      <td>06</td>\n",
       "      <td>74.925620</td>\n",
       "    </tr>\n",
       "    <tr>\n",
       "      <th>11</th>\n",
       "      <td>12</td>\n",
       "      <td>70.208511</td>\n",
       "    </tr>\n",
       "    <tr>\n",
       "      <th>17</th>\n",
       "      <td>06</td>\n",
       "      <td>73.938326</td>\n",
       "    </tr>\n",
       "    <tr>\n",
       "      <th>23</th>\n",
       "      <td>12</td>\n",
       "      <td>70.820628</td>\n",
       "    </tr>\n",
       "    <tr>\n",
       "      <th>29</th>\n",
       "      <td>06</td>\n",
       "      <td>74.000000</td>\n",
       "    </tr>\n",
       "  </tbody>\n",
       "</table>\n",
       "</div>"
      ],
      "text/plain": [
       "   Month       Temp\n",
       "5     06  74.925620\n",
       "11    12  70.208511\n",
       "17    06  73.938326\n",
       "23    12  70.820628\n",
       "29    06  74.000000"
      ]
     },
     "execution_count": 31,
     "metadata": {},
     "output_type": "execute_result"
    }
   ],
   "source": [
    "jun_dec_avg_tmp.head()"
   ]
  },
  {
   "cell_type": "markdown",
   "metadata": {},
   "source": [
    "• Use the t-test to determine whether the difference in the means, if any, is statistically significant. \n",
    "Will you use a paired t-test, or an unpaired t-test? Why?"
   ]
  },
  {
   "cell_type": "code",
   "execution_count": 32,
   "metadata": {},
   "outputs": [
    {
     "data": {
      "image/png": "[encoded data removed]",
      "text/plain": [
       "<Figure size 576x576 with 1 Axes>"
      ]
     },
     "metadata": {},
     "output_type": "display_data"
    }
   ],
   "source": [
    "jun_dec_avg_tmp.boxplot(\"Temp\", by=\"Month\", figsize=(8, 8));\n",
    "plt.show()\n",
    "#jun_avg_tmp.boxplot(\"Temp\", by=\"Month\", figsize=(10, 8))"
   ]
  },
  {
   "cell_type": "code",
   "execution_count": 33,
   "metadata": {},
   "outputs": [],
   "source": [
    "jun_avg_tmp = avg_tmp_df.loc[avg_tmp_df[\"Month\"] =='06',]\n",
    "dec_avg_tmp = avg_tmp_df.loc[avg_tmp_df[\"Month\"] =='12',]"
   ]
  },
  {
   "cell_type": "code",
   "execution_count": 34,
   "metadata": {},
   "outputs": [
    {
     "data": {
      "text/plain": [
       "Ttest_indResult(statistic=6.9218571747346616, pvalue=1.4518830376438732e-05)"
      ]
     },
     "execution_count": 34,
     "metadata": {},
     "output_type": "execute_result"
    }
   ],
   "source": [
    "stats.ttest_ind(jun_avg_tmp.Temp, dec_avg_tmp.Temp, equal_var=False)"
   ]
  },
  {
   "cell_type": "markdown",
   "metadata": {},
   "source": [
    "### Temperature Analysis II"
   ]
  },
  {
   "cell_type": "code",
   "execution_count": 35,
   "metadata": {},
   "outputs": [
    {
     "name": "stdout",
     "output_type": "stream",
     "text": [
      "[(62.0, 69.6, 74.0)]\n"
     ]
    }
   ],
   "source": [
    "# This function called `calc_temps` will accept start date and end date in the format '%Y-%m-%d' \n",
    "# and return the minimum, average, and maximum temperatures for that range of dates\n",
    "def calc_temps(start_date, end_date):\n",
    "    \"\"\"TMIN, TAVG, and TMAX for a list of dates.\n",
    "    \n",
    "    Args:\n",
    "        start_date (string): A date string in the format %Y-%m-%d\n",
    "        end_date (string): A date string in the format %Y-%m-%d\n",
    "        \n",
    "    Returns:\n",
    "        TMIN, TAVE, and TMAX\n",
    "    \"\"\"\n",
    "    \n",
    "    return session.query(func.min(Measurement.tobs), func.round(func.avg(Measurement.tobs),1), func.max(Measurement.tobs)).\\\n",
    "        filter(Measurement.date >= start_date).filter(Measurement.date <= end_date).all()\n",
    "\n",
    "# function usage example\n",
    "print(calc_temps('2012-02-28', '2012-03-05'))"
   ]
  },
  {
   "cell_type": "code",
   "execution_count": 36,
   "metadata": {},
   "outputs": [
    {
     "name": "stdout",
     "output_type": "stream",
     "text": [
      "---------------------------------------------------------------------------------------------\n",
      "The lowest, average and highest temperature during the period 2017-01-12 till 2017-01-20:\n",
      "    65.0F,   71.1F  and  81.0F\n",
      "---------------------------------------------------------------------------------------------\n"
     ]
    }
   ],
   "source": [
    "# Use your previous function `calc_temps` to calculate the tmin, tavg, and tmax \n",
    "# for your trip using the previous year's data for those same dates.\n",
    "\n",
    "# assigning dates for planning trip\n",
    "arrival_date = \"2017-01-12\"\n",
    "departure_date = \"2017-01-20\"\n",
    "\n",
    "temp_during_trip = calc_temps(arrival_date, departure_date)\n",
    "print('---------------------------------------------------------------------------------------------')\n",
    "print(f'The lowest, average and highest temperature during the period {arrival_date} till {departure_date}:')\n",
    "print(f'    {temp_during_trip[0][0]:.1f}F,   {temp_during_trip[0][1]:.1f}F  and  {temp_during_trip[0][2]:.1f}F')\n",
    "print('---------------------------------------------------------------------------------------------')"
   ]
  },
  {
   "cell_type": "code",
   "execution_count": 37,
   "metadata": {},
   "outputs": [
    {
     "data": {
      "image/png": "[encoded data removed]",
      "text/plain": [
       "<Figure size 432x648 with 1 Axes>"
      ]
     },
     "metadata": {},
     "output_type": "display_data"
    }
   ],
   "source": [
    "# Plot the results from your previous query as a bar chart.\n",
    "# Use the average temperature for the y value\n",
    "# Use the peak-to-peak (tmax-tmin) value as the y error bar (yerr)\n",
    "fig, ax = plt.subplots(1, 1, figsize=(6,9))\n",
    "ax.bar([1], temp_during_trip[0][1],  yerr=temp_during_trip[0][2]-temp_during_trip[0][0], width=0.8, color='pink');\n",
    "\n",
    "# setting range values for x & y axis \n",
    "ax.set_xlim(0.08, 1.8)\n",
    "ax.set_ylim(0, 100)\n",
    "\n",
    "# Use \"Trip Avg Temp\" as your Title and set the axis labels\n",
    "plt.title('Trip Avg Temp')\n",
    "plt.ylabel('Temp(F)')\n",
    "\n",
    "# turning off x ticks labels\n",
    "plt.xticks([1],(''))\n",
    "\n",
    "# saving image\n",
    "#plt.savefig('Images/temperature.png')\n",
    "\n",
    "# displaying the chart\n",
    "plt.tight_layout()\n",
    "plt.show()"
   ]
  },
  {
   "cell_type": "markdown",
   "metadata": {},
   "source": [
    "### Daily Rainfall Average"
   ]
  },
  {
   "cell_type": "code",
   "execution_count": 38,
   "metadata": {},
   "outputs": [
    {
     "data": {
      "text/plain": [
       "[('USC00516128',\n",
       "  'MANOA LYON ARBO 785.2, HI US',\n",
       "  21.3331,\n",
       "  -157.8025,\n",
       "  152.4,\n",
       "  0.08),\n",
       " ('USC00519281',\n",
       "  'WAIHEE 837.5, HI US',\n",
       "  21.45167,\n",
       "  -157.84888999999998,\n",
       "  32.9,\n",
       "  0.03),\n",
       " ('USC00513117', 'KANEOHE 838.1, HI US', 21.4234, -157.8015, 14.6, 0.0),\n",
       " ('USC00514830',\n",
       "  'KUALOA RANCH HEADQUARTERS 886.9, HI US',\n",
       "  21.5213,\n",
       "  -157.8374,\n",
       "  7.0,\n",
       "  0.0),\n",
       " ('USC00517948', 'PEARL CITY, HI US', 21.3934, -157.9751, 11.9, 0.0),\n",
       " ('USC00519397', 'WAIKIKI 717.2, HI US', 21.2716, -157.8168, 3.0, 0.0),\n",
       " ('USC00519523',\n",
       "  'WAIMANALO EXPERIMENTAL FARM, HI US',\n",
       "  21.33556,\n",
       "  -157.71139,\n",
       "  19.5,\n",
       "  0.0)]"
      ]
     },
     "execution_count": 38,
     "metadata": {},
     "output_type": "execute_result"
    }
   ],
   "source": [
    "# Calculate the total amount of rainfall per weather station for your trip dates using the previous year's matching dates.\n",
    "# Sort this in descending order by precipitation amount and list the station, name, latitude, longitude, and elevation\n",
    "\n",
    "Sel = [Measurement.station, Station.name, Station.latitude, \\\n",
    "       Station.longitude, Station.elevation, func.sum(Measurement.prcp)]\n",
    "\n",
    "# joining Measurement and Station tables by attribute 'station'\n",
    "total_rainfall = session.query(*Sel).filter(Measurement.date >= arrival_date).\\\n",
    "                                    filter(Measurement.date <= departure_date).\\\n",
    "                                    filter(Measurement.station == Station.station).\\\n",
    "                                    group_by(Measurement.station, Station.name,\\\n",
    "                                            Station.latitude, Station.longitude, Station.elevation).\\\n",
    "                                    order_by(func.sum(Measurement.prcp).desc()).all()\n",
    "\n",
    "# verifying the results\n",
    "total_rainfall"
   ]
  },
  {
   "cell_type": "code",
   "execution_count": 39,
   "metadata": {},
   "outputs": [
    {
     "data": {
      "text/plain": [
       "[(62.0, 69.2, 77.0)]"
      ]
     },
     "execution_count": 39,
     "metadata": {},
     "output_type": "execute_result"
    }
   ],
   "source": [
    "# Create a query that will calculate the daily normals \n",
    "# (i.e. the averages for tmin, tmax, and tavg for all historic data matching a specific month and day)\n",
    "\n",
    "def daily_normals(date):\n",
    "    \"\"\"Daily Normals.\n",
    "    \n",
    "    Args:\n",
    "        date (str): A date string in the format '%m-%d'\n",
    "        \n",
    "    Returns:\n",
    "        A list of tuples containing the daily normals, tmin, tavg, and tmax\n",
    "    \n",
    "    \"\"\"\n",
    "    \n",
    "    sel = [func.min(Measurement.tobs), func.round(func.avg(Measurement.tobs),1), func.max(Measurement.tobs)]\n",
    "    return session.query(*sel).filter(func.strftime(\"%m-%d\", Measurement.date) == date).all()\n",
    "    \n",
    "daily_normals(\"01-01\")"
   ]
  },
  {
   "cell_type": "code",
   "execution_count": 40,
   "metadata": {},
   "outputs": [],
   "source": [
    "# calculate the daily normals for your trip\n",
    "# push each tuple of calculations into a list called `normals`\n",
    "\n",
    "# assigning dates for planning trip\n",
    "arrival_date = \"2017-01-12\"\n",
    "departure_date = \"2017-01-20\"\n",
    "\n",
    "# Set the start and end date of the trip\n",
    "m_arrival_date =  dt.datetime.strptime(arrival_date, '%Y-%m-%d')\n",
    "m_departure_date =  dt.datetime.strptime(departure_date, '%Y-%m-%d')\n",
    "\n",
    "# Use the start and end date to create a range of dates\n",
    "range_dates = (m_departure_date - m_arrival_date).days + 1\n",
    "\n",
    "# placing the range of dates into the list in text format\n",
    "dates_lst = pd.date_range(start=arrival_date, periods=range_dates, freq='D')\n",
    "dates_lst = dates_lst.astype(str)\n",
    "\n",
    "# Strip off the year and save a list of %m-%d strings\n",
    "stped_dates_lst = [x[5:] for x in dates_lst]\n",
    "\n",
    "# Loop through the list of %m-%d strings and calculate the normals for each date\n",
    "normals_lst = [daily_normals(day)[0] for day in stped_dates_lst]  \n",
    "#normals_lst"
   ]
  },
  {
   "cell_type": "code",
   "execution_count": 41,
   "metadata": {},
   "outputs": [],
   "source": [
    "# Load the previous query results into a Pandas DataFrame and add the `trip_dates` range as the `date` index\n",
    "normals_df = pd.DataFrame(normals_lst, columns=['tmin', 'tavg', 'tmax'])\n",
    "\n",
    "# add the `trip_dates` range as the `date` index\n",
    "normals_df['Date'] = dates_lst\n",
    "\n",
    "# setting 'date' as index\n",
    "normals_df = normals_df.set_index('Date')\n",
    "#normals_df.head()"
   ]
  },
  {
   "cell_type": "code",
   "execution_count": 42,
   "metadata": {},
   "outputs": [
    {
     "data": {
      "image/png": "[encoded data removed]",
      "text/plain": [
       "<Figure size 864x576 with 1 Axes>"
      ]
     },
     "metadata": {},
     "output_type": "display_data"
    }
   ],
   "source": [
    "# Plot the daily normals as an area plot with `stacked=False`\n",
    "ax = normals_df.plot.area(stacked=False, rot=90, figsize=(12,8));\n",
    "\n",
    "\n",
    "# setting x ticks, y axis labels\n",
    "plt.xticks(rotation=45,horizontalalignment='right', fontweight='light', fontsize='small');\n",
    "plt.ylabel('Temperature (F)')\n",
    "plt.legend(loc='best')\n",
    "#plt.xlable('Date')\n",
    "\n",
    "# setting range for x, y axis\n",
    "plt.xlim(0, len(normals_df))\n",
    "plt.ylim(0, max(normals_df['tmax']))\n",
    "\n",
    "plt.tight_layout()\n",
    "\n",
    "# saving image to file\n",
    "#plt.savefig('Images/daily-normals.png')\n",
    "\n",
    "\n",
    "# displaying the chart\n",
    "plt.show()\n"
   ]
  }
 ],
 "metadata": {
  "kernel_info": {
   "name": "python3"
  },
  "kernelspec": {
   "display_name": "Python 3",
   "language": "python",
   "name": "python3"
  },
  "language_info": {
   "codemirror_mode": {
    "name": "ipython",
    "version": 3
   },
   "file_extension": ".py",
   "mimetype": "text/x-python",
   "name": "python",
   "nbconvert_exporter": "python",
   "pygments_lexer": "ipython3",
   "version": "3.8.3"
  },
  "nteract": {
   "version": "0.12.3"
  },
  "varInspector": {
   "cols": {
    "lenName": 16,
    "lenType": 16,
    "lenVar": 40
   },
   "kernels_config": {
    "python": {
     "delete_cmd_postfix": "",
     "delete_cmd_prefix": "del ",
     "library": "var_list.py",
     "varRefreshCmd": "print(var_dic_list())"
    },
    "r": {
     "delete_cmd_postfix": ") ",
     "delete_cmd_prefix": "rm(",
     "library": "var_list.r",
     "varRefreshCmd": "cat(var_dic_list()) "
    }
   },
   "types_to_exclude": [
    "module",
    "function",
    "builtin_function_or_method",
    "instance",
    "_Feature"
   ],
   "window_display": false
  }
 },
 "nbformat": 4,
 "nbformat_minor": 2
}
